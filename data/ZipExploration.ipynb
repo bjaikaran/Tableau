{
 "cells": [
  {
   "cell_type": "code",
   "execution_count": null,
   "metadata": {},
   "outputs": [],
   "source": [
    "import time\n",
    "import sys\n",
    "import urllib3\n",
    "import zipfile36 as zp\n",
    "import os\n",
    "import pandas as pd\n",
    "import collections as clt\n",
    "import pyprind as bar"
   ]
  },
  {
   "cell_type": "code",
   "execution_count": null,
   "metadata": {},
   "outputs": [],
   "source": [
    "data_folder = \"zipFiles/\"\n",
    "folder_path = os.listdir(data_folder)"
   ]
  },
  {
   "cell_type": "code",
   "execution_count": null,
   "metadata": {
    "deletable": false,
    "editable": false,
    "run_control": {
     "frozen": true
    }
   },
   "outputs": [],
   "source": [
    "completion = bar.ProgBar(len(folder_path), monitor=True, title=\"Extracting CitiBike Zip File Data\")\n",
    "for item in folder_path:\n",
    "    extraction = zp.ZipFile(data_folder+item)\n",
    "    extraction.extractall(\"csv/\")\n",
    "    completion.update()"
   ]
  },
  {
   "cell_type": "code",
   "execution_count": 69,
   "metadata": {},
   "outputs": [],
   "source": [
    "csv_data = os.listdir(\"csv/\")"
   ]
  },
  {
   "cell_type": "code",
   "execution_count": 76,
   "metadata": {
    "code_folding": []
   },
   "outputs": [],
   "source": [
    "if csv_data[0] == \".ipynb_checkpoints\":\n",
    "    csv_data = csv_data[1:]\n",
    "else:\n",
    "    csv_data[:] = csv_data[:]"
   ]
  },
  {
   "cell_type": "code",
   "execution_count": 80,
   "metadata": {},
   "outputs": [
    {
     "name": "stderr",
     "output_type": "stream",
     "text": [
      "C:\\ProgramData\\Anaconda3\\lib\\site-packages\\ipykernel_launcher.py:1: FutureWarning: Sorting because non-concatenation axis is not aligned. A future version\n",
      "of pandas will change to not sort by default.\n",
      "\n",
      "To accept the future behavior, pass 'sort=False'.\n",
      "\n",
      "To retain the current behavior and silence the warning, pass 'sort=True'.\n",
      "\n",
      "  \"\"\"Entry point for launching an IPython kernel.\n"
     ]
    }
   ],
   "source": [
    "combined_csv = pd.concat( [ pd.read_csv(\"csv/\"+f) for f in csv_data ] )"
   ]
  },
  {
   "cell_type": "code",
   "execution_count": 79,
   "metadata": {},
   "outputs": [],
   "source": [
    "dataframe_listing = []"
   ]
  },
  {
   "cell_type": "code",
   "execution_count": 82,
   "metadata": {},
   "outputs": [],
   "source": [
    "combined_csv.to_csv(\"AGGR.csv\")"
   ]
  },
  {
   "cell_type": "code",
   "execution_count": 57,
   "metadata": {
    "code_folding": [],
    "hide_input": false,
    "run_control": {
     "marked": true
    }
   },
   "outputs": [
    {
     "name": "stderr",
     "output_type": "stream",
     "text": [
      "Creating Individual Dataframe for each CSV\n",
      "0% [##############################] 100% | ETA: 00:00:00\n",
      "Total time elapsed: 00:05:07\n"
     ]
    }
   ],
   "source": [
    "completion = bar.ProgBar(len(csv_data), monitor=True, title=\"Creating Individual Dataframe for each CSV\")\n",
    "for x in range(len(csv_data)):\n",
    "    globals()[\"citiBike_%s\" %data]= pd.read_csv(\"csv/\"+csv_data[x])\n",
    "    dataframe_listing.append(str(\"citiBike_%s\" %data))\n",
    "    completion.update()"
   ]
  },
  {
   "cell_type": "code",
   "execution_count": 58,
   "metadata": {},
   "outputs": [
    {
     "data": {
      "text/plain": [
       "['citiBike_.ipynb_checkpoints',\n",
       " 'citiBike_.ipynb_checkpoints',\n",
       " 'citiBike_.ipynb_checkpoints',\n",
       " 'citiBike_.ipynb_checkpoints',\n",
       " 'citiBike_.ipynb_checkpoints',\n",
       " 'citiBike_.ipynb_checkpoints',\n",
       " 'citiBike_.ipynb_checkpoints',\n",
       " 'citiBike_.ipynb_checkpoints',\n",
       " 'citiBike_.ipynb_checkpoints',\n",
       " 'citiBike_.ipynb_checkpoints',\n",
       " 'citiBike_.ipynb_checkpoints',\n",
       " 'citiBike_.ipynb_checkpoints',\n",
       " 'citiBike_.ipynb_checkpoints',\n",
       " 'citiBike_.ipynb_checkpoints',\n",
       " 'citiBike_.ipynb_checkpoints',\n",
       " 'citiBike_.ipynb_checkpoints',\n",
       " 'citiBike_.ipynb_checkpoints',\n",
       " 'citiBike_.ipynb_checkpoints',\n",
       " 'citiBike_.ipynb_checkpoints',\n",
       " 'citiBike_.ipynb_checkpoints',\n",
       " 'citiBike_.ipynb_checkpoints',\n",
       " 'citiBike_.ipynb_checkpoints',\n",
       " 'citiBike_.ipynb_checkpoints',\n",
       " 'citiBike_.ipynb_checkpoints',\n",
       " 'citiBike_.ipynb_checkpoints',\n",
       " 'citiBike_.ipynb_checkpoints',\n",
       " 'citiBike_.ipynb_checkpoints',\n",
       " 'citiBike_.ipynb_checkpoints',\n",
       " 'citiBike_.ipynb_checkpoints',\n",
       " 'citiBike_.ipynb_checkpoints',\n",
       " 'citiBike_.ipynb_checkpoints',\n",
       " 'citiBike_.ipynb_checkpoints',\n",
       " 'citiBike_.ipynb_checkpoints',\n",
       " 'citiBike_.ipynb_checkpoints',\n",
       " 'citiBike_.ipynb_checkpoints',\n",
       " 'citiBike_.ipynb_checkpoints',\n",
       " 'citiBike_.ipynb_checkpoints',\n",
       " 'citiBike_.ipynb_checkpoints',\n",
       " 'citiBike_.ipynb_checkpoints',\n",
       " 'citiBike_.ipynb_checkpoints',\n",
       " 'citiBike_.ipynb_checkpoints',\n",
       " 'citiBike_.ipynb_checkpoints',\n",
       " 'citiBike_.ipynb_checkpoints',\n",
       " 'citiBike_.ipynb_checkpoints',\n",
       " 'citiBike_.ipynb_checkpoints',\n",
       " 'citiBike_.ipynb_checkpoints',\n",
       " 'citiBike_.ipynb_checkpoints',\n",
       " 'citiBike_.ipynb_checkpoints',\n",
       " 'citiBike_.ipynb_checkpoints',\n",
       " 'citiBike_.ipynb_checkpoints',\n",
       " 'citiBike_.ipynb_checkpoints',\n",
       " 'citiBike_.ipynb_checkpoints',\n",
       " 'citiBike_.ipynb_checkpoints',\n",
       " 'citiBike_.ipynb_checkpoints',\n",
       " 'citiBike_.ipynb_checkpoints',\n",
       " 'citiBike_.ipynb_checkpoints',\n",
       " 'citiBike_.ipynb_checkpoints',\n",
       " 'citiBike_.ipynb_checkpoints',\n",
       " 'citiBike_.ipynb_checkpoints',\n",
       " 'citiBike_.ipynb_checkpoints',\n",
       " 'citiBike_.ipynb_checkpoints',\n",
       " 'citiBike_.ipynb_checkpoints',\n",
       " 'citiBike_.ipynb_checkpoints',\n",
       " 'citiBike_.ipynb_checkpoints',\n",
       " 'citiBike_.ipynb_checkpoints',\n",
       " 'citiBike_.ipynb_checkpoints',\n",
       " 'citiBike_.ipynb_checkpoints',\n",
       " 'citiBike_.ipynb_checkpoints',\n",
       " 'citiBike_.ipynb_checkpoints',\n",
       " 'citiBike_.ipynb_checkpoints',\n",
       " 'citiBike_.ipynb_checkpoints',\n",
       " 'citiBike_.ipynb_checkpoints',\n",
       " 'citiBike_.ipynb_checkpoints',\n",
       " 'citiBike_.ipynb_checkpoints',\n",
       " 'citiBike_.ipynb_checkpoints',\n",
       " 'citiBike_.ipynb_checkpoints',\n",
       " 'citiBike_.ipynb_checkpoints',\n",
       " 'citiBike_.ipynb_checkpoints',\n",
       " 'citiBike_.ipynb_checkpoints',\n",
       " 'citiBike_.ipynb_checkpoints',\n",
       " 'citiBike_.ipynb_checkpoints',\n",
       " 'citiBike_.ipynb_checkpoints',\n",
       " 'citiBike_.ipynb_checkpoints',\n",
       " 'citiBike_.ipynb_checkpoints',\n",
       " 'citiBike_.ipynb_checkpoints',\n",
       " 'citiBike_.ipynb_checkpoints',\n",
       " 'citiBike_.ipynb_checkpoints',\n",
       " 'citiBike_.ipynb_checkpoints',\n",
       " 'citiBike_.ipynb_checkpoints',\n",
       " 'citiBike_.ipynb_checkpoints',\n",
       " 'citiBike_.ipynb_checkpoints',\n",
       " 'citiBike_.ipynb_checkpoints',\n",
       " 'citiBike_.ipynb_checkpoints',\n",
       " 'citiBike_.ipynb_checkpoints',\n",
       " 'citiBike_.ipynb_checkpoints']"
      ]
     },
     "execution_count": 58,
     "metadata": {},
     "output_type": "execute_result"
    }
   ],
   "source": [
    "dataframe_listing"
   ]
  },
  {
   "cell_type": "code",
   "execution_count": null,
   "metadata": {},
   "outputs": [],
   "source": []
  },
  {
   "cell_type": "code",
   "execution_count": null,
   "metadata": {},
   "outputs": [],
   "source": []
  },
  {
   "cell_type": "code",
   "execution_count": null,
   "metadata": {},
   "outputs": [],
   "source": []
  },
  {
   "cell_type": "code",
   "execution_count": null,
   "metadata": {},
   "outputs": [],
   "source": [
    "col_list = []"
   ]
  },
  {
   "cell_type": "code",
   "execution_count": null,
   "metadata": {},
   "outputs": [],
   "source": [
    "for df in dataframe_listing:\n",
    "    globals()[\"cols_\"+df] = globals()[df].columns\n",
    "    col_list.append(str(\"cols_\"+df))"
   ]
  },
  {
   "cell_type": "code",
   "execution_count": null,
   "metadata": {},
   "outputs": [],
   "source": [
    "check_cols = globals()[col_list[0]]"
   ]
  },
  {
   "cell_type": "code",
   "execution_count": null,
   "metadata": {},
   "outputs": [],
   "source": [
    "for item in col_list:\n",
    "    for x in globals()[item]:\n",
    "        if x in check_cols:\n",
    "            print(\"true\")\n",
    "        else:\n",
    "            print(\"false\")"
   ]
  },
  {
   "cell_type": "code",
   "execution_count": null,
   "metadata": {},
   "outputs": [],
   "source": [
    "col_list"
   ]
  },
  {
   "cell_type": "code",
   "execution_count": null,
   "metadata": {},
   "outputs": [],
   "source": []
  }
 ],
 "metadata": {
  "kernelspec": {
   "display_name": "Python 3",
   "language": "python",
   "name": "python3"
  },
  "language_info": {
   "codemirror_mode": {
    "name": "ipython",
    "version": 3
   },
   "file_extension": ".py",
   "mimetype": "text/x-python",
   "name": "python",
   "nbconvert_exporter": "python",
   "pygments_lexer": "ipython3",
   "version": "3.6.6"
  }
 },
 "nbformat": 4,
 "nbformat_minor": 2
}
