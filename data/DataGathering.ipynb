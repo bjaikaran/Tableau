{
 "cells": [
  {
   "cell_type": "code",
   "execution_count": 1,
   "metadata": {},
   "outputs": [],
   "source": [
    "import pandas as pd\n",
    "import pyprind as bar\n",
    "import sys\n",
    "from bs4 import BeautifulSoup as bs\n",
    "from splinter import Browser\n",
    "import requests\n",
    "import time\n",
    "import urllib3\n",
    "import zipfile36 as zp"
   ]
  },
  {
   "cell_type": "code",
   "execution_count": 2,
   "metadata": {},
   "outputs": [],
   "source": [
    "url_path = \"https://s3.amazonaws.com/tripdata/index.html\""
   ]
  },
  {
   "cell_type": "code",
   "execution_count": 3,
   "metadata": {},
   "outputs": [],
   "source": [
    "executable_path = {\"executable_path\": \"chromedriver.exe\"}\n",
    "session = requests.Session()\n",
    "browser = Browser(\"chrome\", **executable_path)"
   ]
  },
  {
   "cell_type": "code",
   "execution_count": 5,
   "metadata": {},
   "outputs": [],
   "source": [
    "browser.visit(url_path)\n",
    "time.sleep(1)\n",
    "dir_search = browser.html\n"
   ]
  },
  {
   "cell_type": "code",
   "execution_count": 6,
   "metadata": {},
   "outputs": [],
   "source": [
    "dir_table = bs(dir_search,\"lxml\")\n",
    "dir_links = dir_table.find(\"tbody\",{\"id\":\"tbody-content\"})\n",
    "iter_links = dir_links.find_all(\"a\")"
   ]
  },
  {
   "cell_type": "code",
   "execution_count": 7,
   "metadata": {},
   "outputs": [],
   "source": [
    "link_storage = []\n",
    "file_names = []"
   ]
  },
  {
   "cell_type": "code",
   "execution_count": 8,
   "metadata": {},
   "outputs": [],
   "source": [
    "for x in range(len(iter_links)):\n",
    "    link_storage.append(iter_links[x][\"href\"])\n",
    "    file_names.append(iter_links[x].text)"
   ]
  },
  {
   "cell_type": "code",
   "execution_count": 9,
   "metadata": {},
   "outputs": [
    {
     "name": "stdout",
     "output_type": "stream",
     "text": [
      "All driver browsers have been closed successfully\n"
     ]
    }
   ],
   "source": [
    "browser.quit()\n",
    "try:\n",
    "    browser.windows()\n",
    "except:\n",
    "    print(\"All driver browsers have been closed successfully\")"
   ]
  },
  {
   "cell_type": "code",
   "execution_count": 10,
   "metadata": {},
   "outputs": [
    {
     "name": "stderr",
     "output_type": "stream",
     "text": [
      "Aquiring CitiBike Zip Files\n",
      "0% [##############################] 100% | ETA: 00:00:00\n",
      "Total time elapsed: 00:03:10\n"
     ]
    }
   ],
   "source": [
    "completion = bar.ProgBar(len(file_names), monitor=True, title=\"Aquiring CitiBike Zip Files\")\n",
    "for x in range(len(link_storage)):\n",
    "    url = link_storage[x]\n",
    "    file = requests.get(url)\n",
    "    with open(file_names[x], \"wb\") as f:\n",
    "        f.write(file.content)\n",
    "    completion.update()"
   ]
  },
  {
   "cell_type": "code",
   "execution_count": 122,
   "metadata": {},
   "outputs": [],
   "source": [
    "file_test = zp.ZipFile(file=file_names[0],mode=\"r\")\n",
    "other = file_test.infolist()[0]"
   ]
  }
 ],
 "metadata": {
  "kernelspec": {
   "display_name": "Python 3",
   "language": "python",
   "name": "python3"
  },
  "language_info": {
   "codemirror_mode": {
    "name": "ipython",
    "version": 3
   },
   "file_extension": ".py",
   "mimetype": "text/x-python",
   "name": "python",
   "nbconvert_exporter": "python",
   "pygments_lexer": "ipython3",
   "version": "3.6.6"
  }
 },
 "nbformat": 4,
 "nbformat_minor": 2
}
